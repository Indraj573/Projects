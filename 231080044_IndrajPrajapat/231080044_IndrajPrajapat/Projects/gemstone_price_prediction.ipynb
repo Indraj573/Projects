{
 "cells": [
  {
   "cell_type": "markdown",
   "id": "8cef97c6-a85f-4000-9d49-99c4153b45be",
   "metadata": {},
   "source": [
    "We are hired by a company Gem Stones co ltd, which is a cubic zirconia manufacturer. We are provided with the dataset containing the prices and other attributes of almost 27,000 cubic zirconia (which is an inexpensive diamond alternative with many of the same qualities as a diamond). The company is earning different profits on different prize slots. We have to help the company in predicting the price for the stone on the basis of the details given in the dataset so it can distinguish between higher profitable stones and lower profitable stones so as to have a better profit share. Also, provide them with the best 5 attributes that are most important."
   ]
  },
  {
   "cell_type": "markdown",
   "id": "da77dc0e-2d6d-4bf9-a9c8-9c513eac7005",
   "metadata": {},
   "source": [
    "# Importing libraries"
   ]
  },
  {
   "cell_type": "code",
   "execution_count": 25,
   "id": "37082133-5e65-41f6-8301-abe133ef5f70",
   "metadata": {},
   "outputs": [],
   "source": [
    "import numpy as np\n",
    "import pandas as pd\n",
    "\n",
    "\n",
    "\n",
    "from sklearn.model_selection import train_test_split\n",
    "from sklearn.linear_model import LinearRegression\n",
    "from sklearn.ensemble import RandomForestRegressor\n",
    "from sklearn.preprocessing import StandardScaler\n",
    "from sklearn.metrics import r2_score\n",
    "from sklearn.model_selection import cross_val_score"
   ]
  },
  {
   "cell_type": "markdown",
   "id": "d91f9a7d-fc6c-42fd-ace1-161a53a032d5",
   "metadata": {},
   "source": [
    "# Reading Data\n",
    "I'll read the dataset and get information about it"
   ]
  },
  {
   "cell_type": "code",
   "execution_count": 2,
   "id": "ce20ccba-c493-4309-9efe-0197b144b355",
   "metadata": {},
   "outputs": [],
   "source": [
    "data = pd.read_csv('cubic_zirconia.csv')"
   ]
  },
  {
   "cell_type": "code",
   "execution_count": 3,
   "id": "6781102a-ebfa-4a71-8168-3a8338fceb90",
   "metadata": {
    "scrolled": true
   },
   "outputs": [
    {
     "data": {
      "text/html": [
       "<div>\n",
       "<style scoped>\n",
       "    .dataframe tbody tr th:only-of-type {\n",
       "        vertical-align: middle;\n",
       "    }\n",
       "\n",
       "    .dataframe tbody tr th {\n",
       "        vertical-align: top;\n",
       "    }\n",
       "\n",
       "    .dataframe thead th {\n",
       "        text-align: right;\n",
       "    }\n",
       "</style>\n",
       "<table border=\"1\" class=\"dataframe\">\n",
       "  <thead>\n",
       "    <tr style=\"text-align: right;\">\n",
       "      <th></th>\n",
       "      <th>Unnamed: 0</th>\n",
       "      <th>carat</th>\n",
       "      <th>cut</th>\n",
       "      <th>color</th>\n",
       "      <th>clarity</th>\n",
       "      <th>depth</th>\n",
       "      <th>table</th>\n",
       "      <th>x</th>\n",
       "      <th>y</th>\n",
       "      <th>z</th>\n",
       "      <th>price</th>\n",
       "    </tr>\n",
       "  </thead>\n",
       "  <tbody>\n",
       "    <tr>\n",
       "      <th>0</th>\n",
       "      <td>1</td>\n",
       "      <td>0.30</td>\n",
       "      <td>Ideal</td>\n",
       "      <td>E</td>\n",
       "      <td>SI1</td>\n",
       "      <td>62.1</td>\n",
       "      <td>58.0</td>\n",
       "      <td>4.27</td>\n",
       "      <td>4.29</td>\n",
       "      <td>2.66</td>\n",
       "      <td>499</td>\n",
       "    </tr>\n",
       "    <tr>\n",
       "      <th>1</th>\n",
       "      <td>2</td>\n",
       "      <td>0.33</td>\n",
       "      <td>Premium</td>\n",
       "      <td>G</td>\n",
       "      <td>IF</td>\n",
       "      <td>60.8</td>\n",
       "      <td>58.0</td>\n",
       "      <td>4.42</td>\n",
       "      <td>4.46</td>\n",
       "      <td>2.70</td>\n",
       "      <td>984</td>\n",
       "    </tr>\n",
       "    <tr>\n",
       "      <th>2</th>\n",
       "      <td>3</td>\n",
       "      <td>0.90</td>\n",
       "      <td>Very Good</td>\n",
       "      <td>E</td>\n",
       "      <td>VVS2</td>\n",
       "      <td>62.2</td>\n",
       "      <td>60.0</td>\n",
       "      <td>6.04</td>\n",
       "      <td>6.12</td>\n",
       "      <td>3.78</td>\n",
       "      <td>6289</td>\n",
       "    </tr>\n",
       "    <tr>\n",
       "      <th>3</th>\n",
       "      <td>4</td>\n",
       "      <td>0.42</td>\n",
       "      <td>Ideal</td>\n",
       "      <td>F</td>\n",
       "      <td>VS1</td>\n",
       "      <td>61.6</td>\n",
       "      <td>56.0</td>\n",
       "      <td>4.82</td>\n",
       "      <td>4.80</td>\n",
       "      <td>2.96</td>\n",
       "      <td>1082</td>\n",
       "    </tr>\n",
       "    <tr>\n",
       "      <th>4</th>\n",
       "      <td>5</td>\n",
       "      <td>0.31</td>\n",
       "      <td>Ideal</td>\n",
       "      <td>F</td>\n",
       "      <td>VVS1</td>\n",
       "      <td>60.4</td>\n",
       "      <td>59.0</td>\n",
       "      <td>4.35</td>\n",
       "      <td>4.43</td>\n",
       "      <td>2.65</td>\n",
       "      <td>779</td>\n",
       "    </tr>\n",
       "  </tbody>\n",
       "</table>\n",
       "</div>"
      ],
      "text/plain": [
       "   Unnamed: 0  carat        cut color clarity  depth  table     x     y     z  \\\n",
       "0           1   0.30      Ideal     E     SI1   62.1   58.0  4.27  4.29  2.66   \n",
       "1           2   0.33    Premium     G      IF   60.8   58.0  4.42  4.46  2.70   \n",
       "2           3   0.90  Very Good     E    VVS2   62.2   60.0  6.04  6.12  3.78   \n",
       "3           4   0.42      Ideal     F     VS1   61.6   56.0  4.82  4.80  2.96   \n",
       "4           5   0.31      Ideal     F    VVS1   60.4   59.0  4.35  4.43  2.65   \n",
       "\n",
       "   price  \n",
       "0    499  \n",
       "1    984  \n",
       "2   6289  \n",
       "3   1082  \n",
       "4    779  "
      ]
     },
     "execution_count": 3,
     "metadata": {},
     "output_type": "execute_result"
    }
   ],
   "source": [
    "data.head()"
   ]
  },
  {
   "cell_type": "markdown",
   "id": "7836655d-3cc0-4e35-aeb0-40e268d1e282",
   "metadata": {},
   "source": [
    "## Exploratory Data Analysis\n",
    "Let's explore the various columns and draw information about how useful each column is. I'll also modify the test data based on training data."
   ]
  },
  {
   "cell_type": "markdown",
   "id": "09598f13-9670-483b-80f2-740553197cc1",
   "metadata": {},
   "source": [
    "\n",
    "The first column is the index for each data point and hence we can simply remove it."
   ]
  },
  {
   "cell_type": "code",
   "execution_count": 4,
   "id": "0963c540-5285-44e3-b68b-c4b27de10122",
   "metadata": {},
   "outputs": [],
   "source": [
    "data.drop('Unnamed: 0', axis=1, inplace= True)"
   ]
  },
  {
   "cell_type": "code",
   "execution_count": 5,
   "id": "94065c87-78cf-4afd-8cad-86e394ae7967",
   "metadata": {
    "scrolled": true
   },
   "outputs": [
    {
     "name": "stdout",
     "output_type": "stream",
     "text": [
      "<class 'pandas.core.frame.DataFrame'>\n",
      "RangeIndex: 26967 entries, 0 to 26966\n",
      "Data columns (total 10 columns):\n",
      " #   Column   Non-Null Count  Dtype  \n",
      "---  ------   --------------  -----  \n",
      " 0   carat    26967 non-null  float64\n",
      " 1   cut      26967 non-null  object \n",
      " 2   color    26967 non-null  object \n",
      " 3   clarity  26967 non-null  object \n",
      " 4   depth    26270 non-null  float64\n",
      " 5   table    26967 non-null  float64\n",
      " 6   x        26967 non-null  float64\n",
      " 7   y        26967 non-null  float64\n",
      " 8   z        26967 non-null  float64\n",
      " 9   price    26967 non-null  int64  \n",
      "dtypes: float64(6), int64(1), object(3)\n",
      "memory usage: 2.1+ MB\n"
     ]
    }
   ],
   "source": [
    "data.info()"
   ]
  },
  {
   "cell_type": "code",
   "execution_count": 6,
   "id": "829ae489-5115-4974-9ad3-4add2b703aeb",
   "metadata": {},
   "outputs": [
    {
     "data": {
      "text/plain": [
       "array(['Ideal', 'Premium', 'Very Good', 'Good', 'Fair'], dtype=object)"
      ]
     },
     "execution_count": 6,
     "metadata": {},
     "output_type": "execute_result"
    }
   ],
   "source": [
    "data['cut'].unique()"
   ]
  },
  {
   "cell_type": "code",
   "execution_count": 7,
   "id": "c8c3a7d5-38b2-4e49-9d66-e1a931a7bd40",
   "metadata": {},
   "outputs": [
    {
     "data": {
      "text/plain": [
       "array(['SI1', 'IF', 'VVS2', 'VS1', 'VVS1', 'VS2', 'SI2', 'I1'],\n",
       "      dtype=object)"
      ]
     },
     "execution_count": 7,
     "metadata": {},
     "output_type": "execute_result"
    }
   ],
   "source": [
    "data['clarity'].unique()\n"
   ]
  },
  {
   "cell_type": "markdown",
   "id": "a435133f-f530-4b07-a64a-b7042b35ecdf",
   "metadata": {},
   "source": [
    "## Filling nulll places with mean"
   ]
  },
  {
   "cell_type": "code",
   "execution_count": 8,
   "id": "1917dd83-f741-48a6-b922-a11af4d8dd62",
   "metadata": {},
   "outputs": [],
   "source": [
    "data[\"depth\"].fillna(data[\"depth\"].astype(\"float64\").mean(), inplace = True)"
   ]
  },
  {
   "cell_type": "code",
   "execution_count": 9,
   "id": "83f7b08d-dc54-46cb-84df-aba595f46020",
   "metadata": {},
   "outputs": [
    {
     "name": "stdout",
     "output_type": "stream",
     "text": [
      "<class 'pandas.core.frame.DataFrame'>\n",
      "RangeIndex: 26967 entries, 0 to 26966\n",
      "Data columns (total 10 columns):\n",
      " #   Column   Non-Null Count  Dtype  \n",
      "---  ------   --------------  -----  \n",
      " 0   carat    26967 non-null  float64\n",
      " 1   cut      26967 non-null  object \n",
      " 2   color    26967 non-null  object \n",
      " 3   clarity  26967 non-null  object \n",
      " 4   depth    26967 non-null  float64\n",
      " 5   table    26967 non-null  float64\n",
      " 6   x        26967 non-null  float64\n",
      " 7   y        26967 non-null  float64\n",
      " 8   z        26967 non-null  float64\n",
      " 9   price    26967 non-null  int64  \n",
      "dtypes: float64(6), int64(1), object(3)\n",
      "memory usage: 2.1+ MB\n"
     ]
    }
   ],
   "source": [
    "data.info()"
   ]
  },
  {
   "cell_type": "markdown",
   "id": "12aad477-ed2d-4120-ab86-8a0294b042b6",
   "metadata": {},
   "source": [
    "## Creating Dummy Variables"
   ]
  },
  {
   "cell_type": "code",
   "execution_count": 10,
   "id": "ec7f24b1-cc81-4003-bb65-7cf60a08171a",
   "metadata": {},
   "outputs": [],
   "source": [
    "data_new = pd.get_dummies(data,\n",
    "                         columns = [\"cut\", \"color\", \"clarity\"],\n",
    "                         drop_first = True , dtype= int)"
   ]
  },
  {
   "cell_type": "code",
   "execution_count": 11,
   "id": "2f806506-da12-4c9e-a097-b2a18fd365f2",
   "metadata": {},
   "outputs": [
    {
     "name": "stdout",
     "output_type": "stream",
     "text": [
      "<class 'pandas.core.frame.DataFrame'>\n",
      "RangeIndex: 26967 entries, 0 to 26966\n",
      "Data columns (total 24 columns):\n",
      " #   Column         Non-Null Count  Dtype  \n",
      "---  ------         --------------  -----  \n",
      " 0   carat          26967 non-null  float64\n",
      " 1   depth          26967 non-null  float64\n",
      " 2   table          26967 non-null  float64\n",
      " 3   x              26967 non-null  float64\n",
      " 4   y              26967 non-null  float64\n",
      " 5   z              26967 non-null  float64\n",
      " 6   price          26967 non-null  int64  \n",
      " 7   cut_Good       26967 non-null  int32  \n",
      " 8   cut_Ideal      26967 non-null  int32  \n",
      " 9   cut_Premium    26967 non-null  int32  \n",
      " 10  cut_Very Good  26967 non-null  int32  \n",
      " 11  color_E        26967 non-null  int32  \n",
      " 12  color_F        26967 non-null  int32  \n",
      " 13  color_G        26967 non-null  int32  \n",
      " 14  color_H        26967 non-null  int32  \n",
      " 15  color_I        26967 non-null  int32  \n",
      " 16  color_J        26967 non-null  int32  \n",
      " 17  clarity_IF     26967 non-null  int32  \n",
      " 18  clarity_SI1    26967 non-null  int32  \n",
      " 19  clarity_SI2    26967 non-null  int32  \n",
      " 20  clarity_VS1    26967 non-null  int32  \n",
      " 21  clarity_VS2    26967 non-null  int32  \n",
      " 22  clarity_VVS1   26967 non-null  int32  \n",
      " 23  clarity_VVS2   26967 non-null  int32  \n",
      "dtypes: float64(6), int32(17), int64(1)\n",
      "memory usage: 3.2 MB\n"
     ]
    }
   ],
   "source": [
    "data_new.info()"
   ]
  },
  {
   "cell_type": "code",
   "execution_count": 12,
   "id": "c28da5c3-523c-4b86-aca3-212d15e5a88f",
   "metadata": {},
   "outputs": [
    {
     "data": {
      "text/plain": [
       "['carat',\n",
       " 'depth',\n",
       " 'table',\n",
       " 'x',\n",
       " 'y',\n",
       " 'z',\n",
       " 'price',\n",
       " 'cut_Good',\n",
       " 'cut_Ideal',\n",
       " 'cut_Premium',\n",
       " 'cut_Very Good',\n",
       " 'color_E',\n",
       " 'color_F',\n",
       " 'color_G',\n",
       " 'color_H',\n",
       " 'color_I',\n",
       " 'color_J',\n",
       " 'clarity_IF',\n",
       " 'clarity_SI1',\n",
       " 'clarity_SI2',\n",
       " 'clarity_VS1',\n",
       " 'clarity_VS2',\n",
       " 'clarity_VVS1',\n",
       " 'clarity_VVS2']"
      ]
     },
     "execution_count": 12,
     "metadata": {},
     "output_type": "execute_result"
    }
   ],
   "source": [
    "list(data_new.columns)"
   ]
  },
  {
   "cell_type": "code",
   "execution_count": 13,
   "id": "025c4260-6313-4cab-916d-5ca189b2346c",
   "metadata": {},
   "outputs": [],
   "source": [
    "data_n = data_new[['carat',\n",
    " 'depth',\n",
    " 'table',\n",
    " 'x',\n",
    " 'y',\n",
    " 'z',\n",
    " 'cut_Good',\n",
    " 'cut_Ideal',\n",
    " 'cut_Premium',\n",
    " 'cut_Very Good',\n",
    " 'color_E',\n",
    " 'color_F',\n",
    " 'color_G',\n",
    " 'color_H',\n",
    " 'color_I',\n",
    " 'color_J',\n",
    " 'clarity_IF',\n",
    " 'clarity_SI1',\n",
    " 'clarity_SI2',\n",
    " 'clarity_VS1',\n",
    " 'clarity_VS2',\n",
    " 'clarity_VVS1',\n",
    " 'clarity_VVS2',\n",
    " 'price']]"
   ]
  },
  {
   "cell_type": "code",
   "execution_count": 14,
   "id": "93767e5d-fc19-4743-9e47-1813788df8cc",
   "metadata": {},
   "outputs": [
    {
     "name": "stdout",
     "output_type": "stream",
     "text": [
      "<class 'pandas.core.frame.DataFrame'>\n",
      "RangeIndex: 26967 entries, 0 to 26966\n",
      "Data columns (total 24 columns):\n",
      " #   Column         Non-Null Count  Dtype  \n",
      "---  ------         --------------  -----  \n",
      " 0   carat          26967 non-null  float64\n",
      " 1   depth          26967 non-null  float64\n",
      " 2   table          26967 non-null  float64\n",
      " 3   x              26967 non-null  float64\n",
      " 4   y              26967 non-null  float64\n",
      " 5   z              26967 non-null  float64\n",
      " 6   cut_Good       26967 non-null  int32  \n",
      " 7   cut_Ideal      26967 non-null  int32  \n",
      " 8   cut_Premium    26967 non-null  int32  \n",
      " 9   cut_Very Good  26967 non-null  int32  \n",
      " 10  color_E        26967 non-null  int32  \n",
      " 11  color_F        26967 non-null  int32  \n",
      " 12  color_G        26967 non-null  int32  \n",
      " 13  color_H        26967 non-null  int32  \n",
      " 14  color_I        26967 non-null  int32  \n",
      " 15  color_J        26967 non-null  int32  \n",
      " 16  clarity_IF     26967 non-null  int32  \n",
      " 17  clarity_SI1    26967 non-null  int32  \n",
      " 18  clarity_SI2    26967 non-null  int32  \n",
      " 19  clarity_VS1    26967 non-null  int32  \n",
      " 20  clarity_VS2    26967 non-null  int32  \n",
      " 21  clarity_VVS1   26967 non-null  int32  \n",
      " 22  clarity_VVS2   26967 non-null  int32  \n",
      " 23  price          26967 non-null  int64  \n",
      "dtypes: float64(6), int32(17), int64(1)\n",
      "memory usage: 3.2 MB\n"
     ]
    }
   ],
   "source": [
    "data_n.info()"
   ]
  },
  {
   "cell_type": "markdown",
   "id": "167cdb34-0edb-4688-a5c5-6a7f1d839b03",
   "metadata": {},
   "source": [
    "## relation of feature with labels"
   ]
  },
  {
   "cell_type": "code",
   "execution_count": 15,
   "id": "e33a4641-4bf1-4a3d-8369-66b0a70fb9a5",
   "metadata": {},
   "outputs": [],
   "source": [
    "data_corr= data_new.corr()"
   ]
  },
  {
   "cell_type": "code",
   "execution_count": 16,
   "id": "a551dc2b-1889-4806-825b-253b6f0b2f34",
   "metadata": {},
   "outputs": [
    {
     "data": {
      "text/plain": [
       "{'carat': 0.9224161094805432,\n",
       " 'depth': -0.002533517877597092,\n",
       " 'table': 0.12694223324168055,\n",
       " 'x': 0.8862471788154094,\n",
       " 'y': 0.8562425409055257,\n",
       " 'z': 0.8505361306239215,\n",
       " 'price': 1.0,\n",
       " 'cut_Good': -0.0007004694751990921,\n",
       " 'cut_Ideal': -0.09869354027353494,\n",
       " 'cut_Premium': 0.08868163619035392,\n",
       " 'cut_Very Good': 0.012659865710896985,\n",
       " 'color_E': -0.10155597394852611,\n",
       " 'color_F': -0.02745673497047337,\n",
       " 'color_G': 0.00809107961473747,\n",
       " 'color_H': 0.057585277622442636,\n",
       " 'color_I': 0.10008388527636619,\n",
       " 'color_J': 0.08223084880152912,\n",
       " 'clarity_IF': -0.05545281145748966,\n",
       " 'clarity_SI1': 0.008269372976095809,\n",
       " 'clarity_SI2': 0.129768469518776,\n",
       " 'clarity_VS1': -0.010577566815271926,\n",
       " 'clarity_VS2': 0.003927809873590731,\n",
       " 'clarity_VVS1': -0.09656455737457728,\n",
       " 'clarity_VVS2': -0.05391399474610804}"
      ]
     },
     "execution_count": 16,
     "metadata": {},
     "output_type": "execute_result"
    }
   ],
   "source": [
    "corr =data_corr['price']\n",
    "r= corr.to_dict()\n",
    "r"
   ]
  },
  {
   "cell_type": "code",
   "execution_count": 17,
   "id": "73f5d446-6236-49fc-8a20-779f29a466d6",
   "metadata": {},
   "outputs": [
    {
     "name": "stdout",
     "output_type": "stream",
     "text": [
      "carat\n",
      "x\n",
      "y\n",
      "z\n"
     ]
    }
   ],
   "source": [
    "for a in r.keys() :\n",
    "    if r[a]>0.5 and r[a]<1   :\n",
    "        print(a)\n",
    "    "
   ]
  },
  {
   "cell_type": "markdown",
   "id": "b5b8d559-4f54-4922-be44-532b0d130a12",
   "metadata": {},
   "source": [
    "# Tmportant  Feature are 'charat', 'x', 'y', 'z', and 'clarity_VVS2'"
   ]
  },
  {
   "cell_type": "markdown",
   "id": "1d032d6a-067b-4097-bef7-99223211c4d8",
   "metadata": {},
   "source": [
    "# Train Test Spliting"
   ]
  },
  {
   "cell_type": "code",
   "execution_count": 18,
   "id": "e2d202fa-4d32-4283-b7f7-0a57a951324c",
   "metadata": {},
   "outputs": [],
   "source": [
    "x_train, x_test, y_train, y_test = train_test_split(data_n.iloc[:, :-1], \n",
    "                                                    data_n.iloc[:, -1], \n",
    "                                                    test_size = 0.2, \n",
    "                                                    random_state = 42)"
   ]
  },
  {
   "cell_type": "code",
   "execution_count": 19,
   "id": "185fe5bc-f275-4719-8a8a-4491aeb62bc9",
   "metadata": {},
   "outputs": [],
   "source": [
    "standardScaler = StandardScaler()\n",
    "standardScaler.fit(x_train)\n",
    "x_train = standardScaler.transform(x_train)\n",
    "x_test = standardScaler.transform(x_test)"
   ]
  },
  {
   "cell_type": "markdown",
   "id": "424e7bdc-27ac-4e1e-acad-9af3de6d8c85",
   "metadata": {},
   "source": [
    "# Models"
   ]
  },
  {
   "cell_type": "markdown",
   "id": "ff1baf67-76a8-48f8-b43a-d928ea6e37b5",
   "metadata": {},
   "source": [
    "## LinearRegression"
   ]
  },
  {
   "cell_type": "code",
   "execution_count": 20,
   "id": "f206169f-ac69-4590-bdb8-ebb823f57ff8",
   "metadata": {},
   "outputs": [
    {
     "data": {
      "text/plain": [
       "0.872476216369724"
      ]
     },
     "execution_count": 20,
     "metadata": {},
     "output_type": "execute_result"
    }
   ],
   "source": [
    "linearRegression = LinearRegression()\n",
    "linearRegression.fit(x_train, y_train)\n",
    "y_pred = linearRegression.predict(x_test)\n",
    "r2_score(y_test, y_pred)"
   ]
  },
  {
   "cell_type": "markdown",
   "id": "c79e64c1-9c31-441e-802f-9f834befb4ca",
   "metadata": {},
   "source": [
    "## RandomForestRegressor"
   ]
  },
  {
   "cell_type": "code",
   "execution_count": 21,
   "id": "0b8b9ece-358d-42bf-959f-a1d299600dab",
   "metadata": {},
   "outputs": [
    {
     "data": {
      "text/plain": [
       "0.9717309611905421"
      ]
     },
     "execution_count": 21,
     "metadata": {},
     "output_type": "execute_result"
    }
   ],
   "source": [
    "rf = RandomForestRegressor(n_estimators = 100)\n",
    "rf.fit(x_train, y_train)\n",
    "y_pred2 = rf.predict(x_test)\n",
    "r2_score(y_test, y_pred2)"
   ]
  },
  {
   "cell_type": "markdown",
   "id": "2bbe68f0-1c16-4900-831e-b5799f25a464",
   "metadata": {},
   "source": [
    "## Cross Validation"
   ]
  },
  {
   "cell_type": "code",
   "execution_count": 22,
   "id": "a1cef357-df11-4c7f-927e-5bbb11184e5a",
   "metadata": {},
   "outputs": [],
   "source": [
    "x= data_n.drop('price', axis= 1)"
   ]
  },
  {
   "cell_type": "code",
   "execution_count": 23,
   "id": "13a4045c-5230-48b1-8367-b18c83c041f2",
   "metadata": {},
   "outputs": [],
   "source": [
    "y = data['price']"
   ]
  },
  {
   "cell_type": "code",
   "execution_count": 26,
   "id": "b18bd938-9bd7-4503-a2f1-ed827fac79e8",
   "metadata": {},
   "outputs": [
    {
     "data": {
      "text/plain": [
       "0.971426820719177"
      ]
     },
     "execution_count": 26,
     "metadata": {},
     "output_type": "execute_result"
    }
   ],
   "source": [
    "scores = cross_val_score(rf, x, y, cv=10)\n",
    "scores.mean()"
   ]
  },
  {
   "cell_type": "code",
   "execution_count": null,
   "id": "befd20cd-1214-4161-9c46-f2ec887075f4",
   "metadata": {},
   "outputs": [],
   "source": []
  },
  {
   "cell_type": "code",
   "execution_count": null,
   "id": "7752a344-fe1f-4463-b58f-b19eb3adcbde",
   "metadata": {},
   "outputs": [],
   "source": []
  }
 ],
 "metadata": {
  "kernelspec": {
   "display_name": "Python 3 (ipykernel)",
   "language": "python",
   "name": "python3"
  },
  "language_info": {
   "codemirror_mode": {
    "name": "ipython",
    "version": 3
   },
   "file_extension": ".py",
   "mimetype": "text/x-python",
   "name": "python",
   "nbconvert_exporter": "python",
   "pygments_lexer": "ipython3",
   "version": "3.11.4"
  }
 },
 "nbformat": 4,
 "nbformat_minor": 5
}
